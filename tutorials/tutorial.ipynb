{
 "cells": [
  {
   "cell_type": "code",
   "execution_count": 1,
   "id": "e69b64b9-1180-4cfb-bc2f-2e4b801af025",
   "metadata": {},
   "outputs": [],
   "source": [
    "from jheapq import core\n",
    "import heapq\n",
    "from importlib import reload\n",
    "import jax\n",
    "import jax.numpy as jnp"
   ]
  },
  {
   "cell_type": "code",
   "execution_count": null,
   "id": "66868110-8a8f-479d-ae29-fcd115eb16eb",
   "metadata": {},
   "outputs": [],
   "source": [
    "for i in range(len("
   ]
  },
  {
   "cell_type": "code",
   "execution_count": 10,
   "id": "ad5ce877-0031-495b-9721-39f3a1349167",
   "metadata": {},
   "outputs": [
    {
     "name": "stdout",
     "output_type": "stream",
     "text": [
      "CPU times: user 84 ms, sys: 0 ns, total: 84 ms\n",
      "Wall time: 83.3 ms\n",
      "[  1   2   3   2   8   3   7  14  13  25  11  10  27  26  34  25  17  56\n",
      "  16  46  32  42  24  38  22  42  45  34  67  92  40  69  95  28  68  56\n",
      "  68  46  30  63  54  56  81  49  44  24  66  52  41  71  68 135  73 100\n",
      "  99 120 127 134 147 131 126 116  66 144 129 123 133  90  33  73  83 119\n",
      " 143 134 147  60 103  53 130 134  99  72  79  56  86 129 120 121 122 117\n",
      "  96  79 144 142 120  76  53 137  91 135 110]\n"
     ]
    }
   ],
   "source": [
    "reload(core)\n",
    "data = jax.random.categorical(jax.random.PRNGKey(0), jnp.ones(150), shape=(101,))\n",
    "# print(data)\n",
    "%time heapified = core.heapify(data)\n",
    "print(heapified)"
   ]
  },
  {
   "cell_type": "code",
   "execution_count": 11,
   "id": "04901ee5-6f8e-46e1-ac43-3b8b3cafc58c",
   "metadata": {},
   "outputs": [
    {
     "name": "stdout",
     "output_type": "stream",
     "text": [
      "[56, 8, 41, 103, 56, 91, 66, 33, 46, 25, 122, 135, 73, 67, 131, 123, 73, 147, 130, 99, 81, 117, 142, 3, 68, 135, 99, 120, 134, 126, 116, 129, 133, 28, 14, 119, 68, 16, 30, 63, 72, 32, 120, 49, 11, 24, 120, 53, 137, 71, 3, 27, 42, 100, 45, 34, 127, 26, 147, 92, 7, 34, 40, 144, 69, 95, 25, 90, 17, 68, 83, 56, 143, 134, 56, 60, 13, 53, 2, 134, 46, 54, 79, 2, 86, 129, 1, 121, 42, 44, 96, 79, 144, 66, 24, 76, 52, 10, 38, 22, 110]\n",
      "[1, 2, 3, 2, 8, 3, 7, 14, 13, 25, 11, 10, 27, 26, 34, 25, 17, 56, 16, 46, 32, 42, 24, 38, 22, 42, 45, 34, 67, 92, 40, 69, 95, 28, 68, 56, 68, 46, 30, 63, 54, 56, 81, 49, 44, 24, 66, 52, 41, 71, 68, 135, 73, 100, 99, 120, 127, 134, 147, 131, 126, 116, 66, 144, 129, 123, 133, 90, 33, 73, 83, 119, 143, 134, 147, 60, 103, 53, 130, 134, 99, 72, 79, 56, 86, 129, 120, 121, 122, 117, 96, 79, 144, 142, 120, 76, 53, 137, 91, 135, 110]\n"
     ]
    }
   ],
   "source": [
    "data_list = data.tolist()\n",
    "print(data_list)\n",
    "heapq.heapify(data_list)\n",
    "print(data_list)"
   ]
  },
  {
   "cell_type": "code",
   "execution_count": 13,
   "id": "5c425a69-1ffa-4ed3-ba75-2b9593dcd6b6",
   "metadata": {},
   "outputs": [
    {
     "data": {
      "text/plain": [
       "[2,\n",
       " 2,\n",
       " 3,\n",
       " 13,\n",
       " 8,\n",
       " 3,\n",
       " 7,\n",
       " 14,\n",
       " 16,\n",
       " 25,\n",
       " 11,\n",
       " 10,\n",
       " 27,\n",
       " 26,\n",
       " 34,\n",
       " 25,\n",
       " 17,\n",
       " 56,\n",
       " 30,\n",
       " 46,\n",
       " 32,\n",
       " 42,\n",
       " 24,\n",
       " 38,\n",
       " 22,\n",
       " 42,\n",
       " 45,\n",
       " 34,\n",
       " 67,\n",
       " 92,\n",
       " 40,\n",
       " 69,\n",
       " 95,\n",
       " 28,\n",
       " 68,\n",
       " 56,\n",
       " 68,\n",
       " 46,\n",
       " 53,\n",
       " 63,\n",
       " 54,\n",
       " 56,\n",
       " 81,\n",
       " 49,\n",
       " 44,\n",
       " 24,\n",
       " 66,\n",
       " 52,\n",
       " 41,\n",
       " 71,\n",
       " 68,\n",
       " 135,\n",
       " 73,\n",
       " 100,\n",
       " 99,\n",
       " 120,\n",
       " 127,\n",
       " 134,\n",
       " 147,\n",
       " 131,\n",
       " 126,\n",
       " 116,\n",
       " 66,\n",
       " 144,\n",
       " 129,\n",
       " 123,\n",
       " 133,\n",
       " 90,\n",
       " 33,\n",
       " 73,\n",
       " 83,\n",
       " 119,\n",
       " 143,\n",
       " 134,\n",
       " 147,\n",
       " 60,\n",
       " 103,\n",
       " 110,\n",
       " 130,\n",
       " 134,\n",
       " 99,\n",
       " 72,\n",
       " 79,\n",
       " 56,\n",
       " 86,\n",
       " 129,\n",
       " 120,\n",
       " 121,\n",
       " 122,\n",
       " 117,\n",
       " 96,\n",
       " 79,\n",
       " 144,\n",
       " 142,\n",
       " 120,\n",
       " 76,\n",
       " 53,\n",
       " 137,\n",
       " 91,\n",
       " 135]"
      ]
     },
     "execution_count": 13,
     "metadata": {},
     "output_type": "execute_result"
    }
   ],
   "source": [
    "data_list"
   ]
  },
  {
   "cell_type": "code",
   "execution_count": 12,
   "id": "61be519d-c971-4d77-9435-b54ee08a0bd5",
   "metadata": {},
   "outputs": [
    {
     "data": {
      "text/plain": [
       "DeviceArray([ 0. ,  0. ,  1. ,  0. ,  7. ,  5. , 11. ,  3. , 17. , 11. ,\n",
       "             10. , 10.5,  8. , 42. , 19. ,  5. , 15. , 57. , 26. , 11. ,\n",
       "             15. , 22. , 30. , 20. , 13. , 25. , 30. , 77. , 62. , 52. ,\n",
       "             55. , 35. ,  7. , 46. , 37. , 77. , 65. , 32. , 49. , 20. ,\n",
       "             28. , 37. , 30. , 22. , 24. , 49. , 31. , 70. , 35. , 48. ,\n",
       "             80. , 98. , 57. , 99. , 78. , 78. , 92. , 94. , 98. , 63. ,\n",
       "             79. , 82. , 89. , 67. , 59. , 47. , 48. , 97. , 65. , 57. ,\n",
       "             68. , 87. , 90. , 73. , 92. , 70. , 36. , 77. , 68. , 80. ,\n",
       "             79. , 96. , 63. , 96. , 96. , 65. , 93. , 81. , 35. , 89. ,\n",
       "             40. , 51. , 87. , 46. , 99. , 72. , 95. , 40. , 82. , 87. ,\n",
       "             53. ], dtype=float32, weak_type=True)"
      ]
     },
     "execution_count": 12,
     "metadata": {},
     "output_type": "execute_result"
    }
   ],
   "source": [
    "core.heappush(heapified, 10.5)"
   ]
  },
  {
   "cell_type": "code",
   "execution_count": 13,
   "id": "a404d3f4-a901-4f56-a976-dd6a88ac94d7",
   "metadata": {},
   "outputs": [
    {
     "name": "stdout",
     "output_type": "stream",
     "text": [
      "[0, 0, 1, 0, 7, 5, 11, 3, 17, 11, 10, 10.5, 8, 42, 19, 5, 15, 57, 26, 11, 15, 22, 30, 20, 13, 25, 30, 77, 62, 52, 55, 35, 7, 46, 37, 77, 65, 32, 49, 20, 28, 37, 30, 22, 24, 49, 31, 70, 35, 48, 80, 98, 57, 99, 78, 78, 92, 94, 98, 63, 79, 82, 89, 67, 59, 47, 48, 97, 65, 57, 68, 87, 90, 73, 92, 70, 36, 77, 68, 80, 79, 96, 63, 96, 96, 65, 93, 81, 35, 89, 40, 51, 87, 46, 99, 72, 95, 40, 82, 87, 53]\n"
     ]
    }
   ],
   "source": [
    "heapq.heappush(data_list, 10.5)\n",
    "print(data_list)"
   ]
  },
  {
   "cell_type": "code",
   "execution_count": 21,
   "id": "e07397f8-1e54-4d0d-908b-f37d74dbd6fc",
   "metadata": {},
   "outputs": [
    {
     "name": "stdout",
     "output_type": "stream",
     "text": [
      "4 [54, 63, 85, 45, 7, 50, 73, 69, 51, 15]\n",
      "3 [54, 63, 85, 45, 7, 50, 73, 69, 51, 15]\n",
      "2 [54, 63, 50, 45, 7, 85, 73, 69, 51, 15]\n",
      "1 [54, 7, 50, 45, 15, 85, 73, 69, 51, 63]\n",
      "0 [7, 15, 50, 45, 54, 85, 73, 69, 51, 63]\n"
     ]
    }
   ],
   "source": [
    "data_list = data.tolist()\n",
    "\n",
    "for i in reversed(range(len(data_list)//2)):\n",
    "    heapq._siftup(data_list, i)\n",
    "    print(i, data_list)"
   ]
  },
  {
   "cell_type": "code",
   "execution_count": null,
   "id": "4587ea88-d96d-4b20-9318-60ff7ee5d52d",
   "metadata": {},
   "outputs": [],
   "source": [
    "data_list = data2.tolist()\n",
    "print(data_list)\n",
    "heapq._siftdown(data_list, 3, )\n",
    "print(data_list)"
   ]
  }
 ],
 "metadata": {
  "kernelspec": {
   "display_name": "Python 3 (ipykernel)",
   "language": "python",
   "name": "python3"
  },
  "language_info": {
   "codemirror_mode": {
    "name": "ipython",
    "version": 3
   },
   "file_extension": ".py",
   "mimetype": "text/x-python",
   "name": "python",
   "nbconvert_exporter": "python",
   "pygments_lexer": "ipython3",
   "version": "3.9.5"
  }
 },
 "nbformat": 4,
 "nbformat_minor": 5
}
