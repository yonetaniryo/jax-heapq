{
 "cells": [
  {
   "cell_type": "code",
   "execution_count": 14,
   "id": "e69b64b9-1180-4cfb-bc2f-2e4b801af025",
   "metadata": {},
   "outputs": [],
   "source": [
    "from jheapq import core\n",
    "import heapq\n",
    "from importlib import reload\n",
    "import jax\n",
    "import jax.numpy as jnp"
   ]
  },
  {
   "cell_type": "code",
   "execution_count": 15,
   "id": "3306cda9-2caa-4f70-8c26-58350040e9bd",
   "metadata": {},
   "outputs": [
    {
     "name": "stdout",
     "output_type": "stream",
     "text": [
      "Requirement already satisfied: line_profiler in /home/yonetani/programs/jax-heapq/.venv/lib/python3.9/site-packages (3.5.1)\n"
     ]
    }
   ],
   "source": [
    "!pip install line_profiler"
   ]
  },
  {
   "cell_type": "code",
   "execution_count": 16,
   "id": "db707f52-0e8f-437a-a321-ad9f7d9aaea8",
   "metadata": {},
   "outputs": [
    {
     "name": "stdout",
     "output_type": "stream",
     "text": [
      "The line_profiler extension is already loaded. To reload it, use:\n",
      "  %reload_ext line_profiler\n"
     ]
    }
   ],
   "source": [
    "%load_ext line_profiler"
   ]
  },
  {
   "cell_type": "code",
   "execution_count": 39,
   "id": "ad5ce877-0031-495b-9721-39f3a1349167",
   "metadata": {},
   "outputs": [
    {
     "name": "stdout",
     "output_type": "stream",
     "text": [
      "CPU times: user 104 ms, sys: 0 ns, total: 104 ms\n",
      "Wall time: 100 ms\n",
      "CPU times: user 20 µs, sys: 6 µs, total: 26 µs\n",
      "Wall time: 27.9 µs\n",
      "CPU times: user 84.5 ms, sys: 7.79 ms, total: 92.3 ms\n",
      "Wall time: 87.6 ms\n",
      "CPU times: user 96.2 ms, sys: 684 µs, total: 96.9 ms\n",
      "Wall time: 93.1 ms\n",
      "CPU times: user 1.39 ms, sys: 389 µs, total: 1.78 ms\n",
      "Wall time: 1.52 ms\n"
     ]
    },
    {
     "data": {
      "text/plain": [
       "DeviceArray(True, dtype=bool)"
      ]
     },
     "execution_count": 39,
     "metadata": {},
     "output_type": "execute_result"
    }
   ],
   "source": [
    "reload(core)\n",
    "data = jax.random.categorical(jax.random.PRNGKey(0), jnp.ones(150), \n",
    "                              shape=(101,)) * 1.\n",
    "# print(data)\n",
    "%time heapified = core.heapify_fixedsize(data)\n",
    "data = jax.random.categorical(jax.random.PRNGKey(3), jnp.ones(150), \n",
    "                              shape=(101,)) * 1.\n",
    "%time heapified = core.heapify_fixedsize(data)\n",
    "%time heapified2 = core.heapify_fixedsize(data[:-5])\n",
    "%time heapified3 = core.heapify(data)\n",
    "%time heapified4 = core.heapify(data[:-5])\n",
    "jnp.allclose(heapified2, heapified4)"
   ]
  },
  {
   "cell_type": "code",
   "execution_count": 49,
   "id": "8f7ed85f-1dd4-47d0-9888-77c5af120deb",
   "metadata": {},
   "outputs": [
    {
     "name": "stdout",
     "output_type": "stream",
     "text": [
      "CPU times: user 83.1 ms, sys: 0 ns, total: 83.1 ms\n",
      "Wall time: 81.1 ms\n",
      "CPU times: user 76.7 ms, sys: 0 ns, total: 76.7 ms\n",
      "Wall time: 75.4 ms\n",
      "CPU times: user 59.4 ms, sys: 8.4 ms, total: 67.8 ms\n",
      "Wall time: 67 ms\n",
      "CPU times: user 2.26 ms, sys: 499 µs, total: 2.76 ms\n",
      "Wall time: 2.56 ms\n"
     ]
    }
   ],
   "source": [
    "reload(core)\n",
    "%time ret, heapified_ = core.heappop_fixedsize(heapified)\n",
    "%time ret, rem = core.heappop_fixedsize(heapified_)\n",
    "%time ret, heapified_ = core.heappop(heapified)\n",
    "%time ret2, rem2 = core.heappop(heapified_)\n"
   ]
  },
  {
   "cell_type": "code",
   "execution_count": 38,
   "id": "cdf6ebeb-b885-4ca5-a48b-13913abf7224",
   "metadata": {},
   "outputs": [
    {
     "name": "stdout",
     "output_type": "stream",
     "text": [
      "CPU times: user 37.9 ms, sys: 0 ns, total: 37.9 ms\n",
      "Wall time: 36.3 ms\n",
      "CPU times: user 41.9 ms, sys: 102 µs, total: 42 ms\n",
      "Wall time: 40.2 ms\n",
      "CPU times: user 41.8 ms, sys: 390 µs, total: 42.1 ms\n",
      "Wall time: 40.3 ms\n",
      "[  0.  79. 118.]\n",
      "CPU times: user 39.8 ms, sys: 0 ns, total: 39.8 ms\n",
      "Wall time: 38 ms\n",
      "CPU times: user 41.4 ms, sys: 0 ns, total: 41.4 ms\n",
      "Wall time: 39.6 ms\n",
      "CPU times: user 44.4 ms, sys: 806 µs, total: 45.2 ms\n",
      "Wall time: 43 ms\n",
      "[  0.   0. 118.  79.  79. 118.]\n",
      "CPU times: user 44.4 ms, sys: 0 ns, total: 44.4 ms\n",
      "Wall time: 43.4 ms\n",
      "CPU times: user 43.1 ms, sys: 0 ns, total: 43.1 ms\n",
      "Wall time: 40.8 ms\n",
      "CPU times: user 38.8 ms, sys: 1.1 ms, total: 39.9 ms\n",
      "Wall time: 38.4 ms\n",
      "[  0.   0.  79.   0.  79. 118. 118.  79. 118.]\n"
     ]
    }
   ],
   "source": [
    "\n",
    "data = jnp.array([])\n",
    "reload(core)\n",
    "for i in range(3):\n",
    "    new_items =  jax.random.categorical(jax.random.PRNGKey(0), \n",
    "                                        jnp.ones(150), \n",
    "                              shape=(3,))\n",
    "    for new_item in new_items:\n",
    "        %time data = core.heappush_fixedsize(data, new_item)\n",
    "    print(data)"
   ]
  },
  {
   "cell_type": "code",
   "execution_count": 31,
   "id": "9ea35208-7662-40fb-8631-b56bb935b2f8",
   "metadata": {},
   "outputs": [
    {
     "name": "stdout",
     "output_type": "stream",
     "text": [
      "CPU times: user 44.8 ms, sys: 0 ns, total: 44.8 ms\n",
      "Wall time: 44.4 ms\n",
      "CPU times: user 2.1 ms, sys: 0 ns, total: 2.1 ms\n",
      "Wall time: 1.7 ms\n",
      "CPU times: user 1.57 ms, sys: 0 ns, total: 1.57 ms\n",
      "Wall time: 1.32 ms\n",
      "[  0.  79. 118.]\n",
      "CPU times: user 952 µs, sys: 0 ns, total: 952 µs\n",
      "Wall time: 957 µs\n",
      "CPU times: user 1.56 ms, sys: 0 ns, total: 1.56 ms\n",
      "Wall time: 1.32 ms\n",
      "CPU times: user 1.17 ms, sys: 0 ns, total: 1.17 ms\n",
      "Wall time: 1.07 ms\n",
      "[  0.   0. 118.  79.  79. 118.]\n",
      "CPU times: user 823 µs, sys: 0 ns, total: 823 µs\n",
      "Wall time: 828 µs\n",
      "CPU times: user 1.27 ms, sys: 0 ns, total: 1.27 ms\n",
      "Wall time: 1.14 ms\n",
      "CPU times: user 1.16 ms, sys: 146 µs, total: 1.3 ms\n",
      "Wall time: 1.27 ms\n",
      "[  0.   0.  79.   0.  79. 118. 118.  79. 118.]\n"
     ]
    }
   ],
   "source": [
    "reload(core)\n",
    "data = jnp.array([])\n",
    "reload(core)\n",
    "for i in range(3):\n",
    "    new_items =  jax.random.categorical(jax.random.PRNGKey(0), \n",
    "                                        jnp.ones(150), \n",
    "                              shape=(3,))\n",
    "    for new_item in new_items:\n",
    "        %time data = core.heappush(data, new_item)\n",
    "    print(data)"
   ]
  },
  {
   "cell_type": "code",
   "execution_count": 78,
   "id": "a93fb677-0b73-4cbb-86df-51f19219b0be",
   "metadata": {},
   "outputs": [
    {
     "name": "stdout",
     "output_type": "stream",
     "text": [
      "[ 20  52  97 104  29  25  50  55  40  28]\n",
      "CPU times: user 477 µs, sys: 137 µs, total: 614 µs\n",
      "Wall time: 496 µs\n",
      "[ 20.  52.  97. 104.  29.  25.  50.  55.  40.  28.  inf  inf  inf  inf\n",
      "  inf  inf  inf  inf  inf  inf]\n",
      "CPU times: user 575 µs, sys: 164 µs, total: 739 µs\n",
      "Wall time: 618 µs\n"
     ]
    }
   ],
   "source": [
    "data\n",
    "data2 = jnp.hstack((data, jnp.ones(10) * jnp.inf))\n",
    "%time print(jax.jit(_siftup)(data, 0, len(data)))\n",
    "%time print(jax.jit(_siftup)(data2, 0, len(data)))"
   ]
  },
  {
   "cell_type": "code",
   "execution_count": 33,
   "id": "04901ee5-6f8e-46e1-ac43-3b8b3cafc58c",
   "metadata": {},
   "outputs": [
    {
     "name": "stdout",
     "output_type": "stream",
     "text": [
      "CPU times: user 5 µs, sys: 0 ns, total: 5 µs\n",
      "Wall time: 7.63 µs\n"
     ]
    }
   ],
   "source": [
    "data_list = data.tolist()\n",
    "# print(data_list)\n",
    "%time heapq.heapify(data_list)\n",
    "# print(data_list)"
   ]
  },
  {
   "cell_type": "code",
   "execution_count": 12,
   "id": "61be519d-c971-4d77-9435-b54ee08a0bd5",
   "metadata": {},
   "outputs": [
    {
     "data": {
      "text/plain": [
       "DeviceArray([ 0. ,  0. ,  1. ,  0. ,  7. ,  5. , 11. ,  3. , 17. , 11. ,\n",
       "             10. , 10.5,  8. , 42. , 19. ,  5. , 15. , 57. , 26. , 11. ,\n",
       "             15. , 22. , 30. , 20. , 13. , 25. , 30. , 77. , 62. , 52. ,\n",
       "             55. , 35. ,  7. , 46. , 37. , 77. , 65. , 32. , 49. , 20. ,\n",
       "             28. , 37. , 30. , 22. , 24. , 49. , 31. , 70. , 35. , 48. ,\n",
       "             80. , 98. , 57. , 99. , 78. , 78. , 92. , 94. , 98. , 63. ,\n",
       "             79. , 82. , 89. , 67. , 59. , 47. , 48. , 97. , 65. , 57. ,\n",
       "             68. , 87. , 90. , 73. , 92. , 70. , 36. , 77. , 68. , 80. ,\n",
       "             79. , 96. , 63. , 96. , 96. , 65. , 93. , 81. , 35. , 89. ,\n",
       "             40. , 51. , 87. , 46. , 99. , 72. , 95. , 40. , 82. , 87. ,\n",
       "             53. ], dtype=float32, weak_type=True)"
      ]
     },
     "execution_count": 12,
     "metadata": {},
     "output_type": "execute_result"
    }
   ],
   "source": [
    "core.heappush(heapified, 10.5)"
   ]
  },
  {
   "cell_type": "code",
   "execution_count": 36,
   "id": "a404d3f4-a901-4f56-a976-dd6a88ac94d7",
   "metadata": {},
   "outputs": [
    {
     "name": "stdout",
     "output_type": "stream",
     "text": [
      "CPU times: user 4 µs, sys: 0 ns, total: 4 µs\n",
      "Wall time: 6.91 µs\n",
      "[0.0, 0.0, 10.5, 0.0, 10.5, 79.0, 118.0, 79.0, 118.0, 79.0, 10.5, 118.0]\n"
     ]
    }
   ],
   "source": [
    "%time heapq.heappush(data_list, 10.5)\n",
    "print(data_list)"
   ]
  },
  {
   "cell_type": "code",
   "execution_count": 21,
   "id": "e07397f8-1e54-4d0d-908b-f37d74dbd6fc",
   "metadata": {},
   "outputs": [
    {
     "name": "stdout",
     "output_type": "stream",
     "text": [
      "4 [54, 63, 85, 45, 7, 50, 73, 69, 51, 15]\n",
      "3 [54, 63, 85, 45, 7, 50, 73, 69, 51, 15]\n",
      "2 [54, 63, 50, 45, 7, 85, 73, 69, 51, 15]\n",
      "1 [54, 7, 50, 45, 15, 85, 73, 69, 51, 63]\n",
      "0 [7, 15, 50, 45, 54, 85, 73, 69, 51, 63]\n"
     ]
    }
   ],
   "source": [
    "data_list = data.tolist()\n",
    "\n",
    "for i in reversed(range(len(data_list)//2)):\n",
    "    heapq._siftup(data_list, i)\n",
    "    print(i, data_list)"
   ]
  },
  {
   "cell_type": "code",
   "execution_count": null,
   "id": "4587ea88-d96d-4b20-9318-60ff7ee5d52d",
   "metadata": {},
   "outputs": [],
   "source": [
    "data_list = data2.tolist()\n",
    "print(data_list)\n",
    "heapq._siftdown(data_list, 3, )\n",
    "print(data_list)"
   ]
  }
 ],
 "metadata": {
  "kernelspec": {
   "display_name": "Python 3 (ipykernel)",
   "language": "python",
   "name": "python3"
  },
  "language_info": {
   "codemirror_mode": {
    "name": "ipython",
    "version": 3
   },
   "file_extension": ".py",
   "mimetype": "text/x-python",
   "name": "python",
   "nbconvert_exporter": "python",
   "pygments_lexer": "ipython3",
   "version": "3.9.5"
  }
 },
 "nbformat": 4,
 "nbformat_minor": 5
}
